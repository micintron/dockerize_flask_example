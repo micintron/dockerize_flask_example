{
 "cells": [
  {
   "cell_type": "code",
   "execution_count": 10,
   "metadata": {},
   "outputs": [
    {
     "name": "stdout",
     "output_type": "stream",
     "text": [
      "done\n"
     ]
    }
   ],
   "source": [
    "from fastai.text import *\n",
    "import pandas as pd\n",
    "import numpy as np\n",
    "from sklearn.model_selection import train_test_split\n",
    "\n",
    "pd.set_option('display.max_colwidth', None)\n",
    "\n",
    "print('done')"
   ]
  },
  {
   "cell_type": "markdown",
   "metadata": {},
   "source": [
    "## 1. Import the data"
   ]
  },
  {
   "cell_type": "code",
   "execution_count": 8,
   "metadata": {},
   "outputs": [
    {
     "name": "stdout",
     "output_type": "stream",
     "text": [
      "Length of dataset: 20000\n"
     ]
    },
    {
     "data": {
      "text/html": [
       "<div>\n",
       "<style scoped>\n",
       "    .dataframe tbody tr th:only-of-type {\n",
       "        vertical-align: middle;\n",
       "    }\n",
       "\n",
       "    .dataframe tbody tr th {\n",
       "        vertical-align: top;\n",
       "    }\n",
       "\n",
       "    .dataframe thead th {\n",
       "        text-align: right;\n",
       "    }\n",
       "</style>\n",
       "<table border=\"1\" class=\"dataframe\">\n",
       "  <thead>\n",
       "    <tr style=\"text-align: right;\">\n",
       "      <th></th>\n",
       "      <th>label</th>\n",
       "      <th>text</th>\n",
       "    </tr>\n",
       "  </thead>\n",
       "  <tbody>\n",
       "    <tr>\n",
       "      <th>0</th>\n",
       "      <td>18</td>\n",
       "      <td>How do I fill a DataSet or a DataTable from a LINQ query resultset ?</td>\n",
       "    </tr>\n",
       "    <tr>\n",
       "      <th>1</th>\n",
       "      <td>18</td>\n",
       "      <td>How do you page a collection with LINQ?</td>\n",
       "    </tr>\n",
       "    <tr>\n",
       "      <th>2</th>\n",
       "      <td>3</td>\n",
       "      <td>Best Subversion clients for Windows Vista (64bit)</td>\n",
       "    </tr>\n",
       "    <tr>\n",
       "      <th>3</th>\n",
       "      <td>3</td>\n",
       "      <td>Best Practice: Collaborative Environment, Bin Directory, SVN</td>\n",
       "    </tr>\n",
       "    <tr>\n",
       "      <th>4</th>\n",
       "      <td>7</td>\n",
       "      <td>Visual Studio Setup Project - Per User Registry Settings</td>\n",
       "    </tr>\n",
       "  </tbody>\n",
       "</table>\n",
       "</div>"
      ],
      "text/plain": [
       "   label                                                                  text\n",
       "0     18  How do I fill a DataSet or a DataTable from a LINQ query resultset ?\n",
       "1     18                               How do you page a collection with LINQ?\n",
       "2      3                     Best Subversion clients for Windows Vista (64bit)\n",
       "3      3          Best Practice: Collaborative Environment, Bin Directory, SVN\n",
       "4      7              Visual Studio Setup Project - Per User Registry Settings"
      ]
     },
     "execution_count": 8,
     "metadata": {},
     "output_type": "execute_result"
    }
   ],
   "source": [
    "text_path = 'title_StackOverflow.txt'\n",
    "label_path = 'label_StackOverflow.txt'\n",
    "\n",
    "df_text = pd.read_csv(text_path, sep='\\t', names=['text'], header=None)\n",
    "df_label = pd.read_csv(label_path, sep='\\t', names=['label'], header=None)\n",
    "\n",
    "df = pd.concat([df_label, df_text], axis=1, sort=False)\n",
    "print('Length of dataset: '+ str(len(df.index)))\n",
    "df.head()"
   ]
  },
  {
   "cell_type": "code",
   "execution_count": 9,
   "metadata": {},
   "outputs": [
    {
     "data": {
      "text/html": [
       "<div>\n",
       "<style scoped>\n",
       "    .dataframe tbody tr th:only-of-type {\n",
       "        vertical-align: middle;\n",
       "    }\n",
       "\n",
       "    .dataframe tbody tr th {\n",
       "        vertical-align: top;\n",
       "    }\n",
       "\n",
       "    .dataframe thead th {\n",
       "        text-align: right;\n",
       "    }\n",
       "</style>\n",
       "<table border=\"1\" class=\"dataframe\">\n",
       "  <thead>\n",
       "    <tr style=\"text-align: right;\">\n",
       "      <th></th>\n",
       "      <th>label</th>\n",
       "      <th>text</th>\n",
       "    </tr>\n",
       "  </thead>\n",
       "  <tbody>\n",
       "    <tr>\n",
       "      <th>0</th>\n",
       "      <td>linq</td>\n",
       "      <td>How do I fill a DataSet or a DataTable from a LINQ query resultset ?</td>\n",
       "    </tr>\n",
       "    <tr>\n",
       "      <th>1</th>\n",
       "      <td>linq</td>\n",
       "      <td>How do you page a collection with LINQ?</td>\n",
       "    </tr>\n",
       "    <tr>\n",
       "      <th>2</th>\n",
       "      <td>svn</td>\n",
       "      <td>Best Subversion clients for Windows Vista (64bit)</td>\n",
       "    </tr>\n",
       "    <tr>\n",
       "      <th>3</th>\n",
       "      <td>svn</td>\n",
       "      <td>Best Practice: Collaborative Environment, Bin Directory, SVN</td>\n",
       "    </tr>\n",
       "    <tr>\n",
       "      <th>4</th>\n",
       "      <td>visual-studio</td>\n",
       "      <td>Visual Studio Setup Project - Per User Registry Settings</td>\n",
       "    </tr>\n",
       "  </tbody>\n",
       "</table>\n",
       "</div>"
      ],
      "text/plain": [
       "           label  \\\n",
       "0           linq   \n",
       "1           linq   \n",
       "2            svn   \n",
       "3            svn   \n",
       "4  visual-studio   \n",
       "\n",
       "                                                                   text  \n",
       "0  How do I fill a DataSet or a DataTable from a LINQ query resultset ?  \n",
       "1                               How do you page a collection with LINQ?  \n",
       "2                     Best Subversion clients for Windows Vista (64bit)  \n",
       "3          Best Practice: Collaborative Environment, Bin Directory, SVN  \n",
       "4              Visual Studio Setup Project - Per User Registry Settings  "
      ]
     },
     "execution_count": 9,
     "metadata": {},
     "output_type": "execute_result"
    }
   ],
   "source": [
    "mapping = {\n",
    "  1: 'wordpress',\n",
    "  2: 'oracle',\n",
    "  3: 'svn',\n",
    "  4: 'apache',\n",
    "  5: 'excel',\n",
    "  6: 'matlab',\n",
    "  7: 'visual-studio',\n",
    "  8: 'cocoa',\n",
    "  9: 'osx',\n",
    "  10: 'bash',\n",
    "  11: 'spring',\n",
    "  12: 'hibernate',\n",
    "  13: 'scala',\n",
    "  14: 'sharepoint',\n",
    "  15: 'ajax',\n",
    "  16: 'qt',\n",
    "  17: 'drupal',\n",
    "  18: 'linq',\n",
    "  19: 'haskell',\n",
    "  20: 'magento'\n",
    "}\n",
    "\n",
    "df['label'] = df['label'].map(mapping)\n",
    "\n",
    "df.head()"
   ]
  },
  {
   "cell_type": "markdown",
   "metadata": {},
   "source": [
    "## 2. Create train & validation datasets and FastAI data bunch"
   ]
  },
  {
   "cell_type": "code",
   "execution_count": 11,
   "metadata": {},
   "outputs": [
    {
     "data": {
      "text/plain": [
       "((14000, 2), (6000, 2))"
      ]
     },
     "execution_count": 11,
     "metadata": {},
     "output_type": "execute_result"
    }
   ],
   "source": [
    "df_trn, df_val = train_test_split(df, stratify = df['label'], test_size = 0.3)\n",
    "\n",
    "df_trn.shape, df_val.shape"
   ]
  },
  {
   "cell_type": "code",
   "execution_count": 13,
   "metadata": {},
   "outputs": [
    {
     "data": {
      "text/html": [],
      "text/plain": [
       "<IPython.core.display.HTML object>"
      ]
     },
     "metadata": {},
     "output_type": "display_data"
    },
    {
     "data": {
      "text/html": [],
      "text/plain": [
       "<IPython.core.display.HTML object>"
      ]
     },
     "metadata": {},
     "output_type": "display_data"
    },
    {
     "data": {
      "text/html": [],
      "text/plain": [
       "<IPython.core.display.HTML object>"
      ]
     },
     "metadata": {},
     "output_type": "display_data"
    },
    {
     "data": {
      "text/html": [],
      "text/plain": [
       "<IPython.core.display.HTML object>"
      ]
     },
     "metadata": {},
     "output_type": "display_data"
    },
    {
     "data": {
      "text/html": [
       "<table border=\"1\" class=\"dataframe\">\n",
       "  <thead>\n",
       "    <tr style=\"text-align: right;\">\n",
       "      <th>text</th>\n",
       "      <th>target</th>\n",
       "    </tr>\n",
       "  </thead>\n",
       "  <tbody>\n",
       "    <tr>\n",
       "      <td>xxbos xxmaj in apache , if i go to https : / / xxunk , the page itself is over https , but all images / links are http : / / . xxmaj is there way to auto rewrite the html so its all https : / / ?</td>\n",
       "      <td>apache</td>\n",
       "    </tr>\n",
       "    <tr>\n",
       "      <td>xxbos xxmaj using xxmaj sub - xxmaj types xxmaj and xxmaj return xxmaj types in xxmaj scala to xxmaj process a xxmaj generic xxmaj object xxmaj into a xxmaj specific xxmaj one</td>\n",
       "      <td>scala</td>\n",
       "    </tr>\n",
       "    <tr>\n",
       "      <td>xxbos xxmaj using xxmaj apache xxmaj rewrite to go from xxup http to xxup https and vice - versa , but i get a 302 response and my app errors out .</td>\n",
       "      <td>apache</td>\n",
       "    </tr>\n",
       "    <tr>\n",
       "      <td>xxbos xxmaj why is the recursion idiom in xxmaj haskell \" ' n+1 ' and ' n ' \" and not \" ' n ' and ' xxunk ' \" ?</td>\n",
       "      <td>haskell</td>\n",
       "    </tr>\n",
       "    <tr>\n",
       "      <td>xxbos xxmaj what are the xxunk issues to look for when moving an application built in xxmaj qt for a xxmaj symbian platform to a xxmaj windows xxmaj mobile platform ?</td>\n",
       "      <td>qt</td>\n",
       "    </tr>\n",
       "  </tbody>\n",
       "</table>"
      ],
      "text/plain": [
       "<IPython.core.display.HTML object>"
      ]
     },
     "metadata": {},
     "output_type": "display_data"
    }
   ],
   "source": [
    "# Language model data\n",
    "data_lm = TextLMDataBunch.from_df(train_df = df_trn, valid_df = df_val, path = \"\")\n",
    "\n",
    "# Classifier model data\n",
    "data_clas = TextClasDataBunch.from_df(train_df = df_trn, valid_df = df_val, path = \"\", \n",
    "                                      vocab=data_lm.train_ds.vocab, bs=32)\n",
    "\n",
    "#show the batch data \n",
    "data_clas.show_batch()"
   ]
  },
  {
   "cell_type": "code",
   "execution_count": 14,
   "metadata": {},
   "outputs": [],
   "source": [
    "data_lm.save('data_lm_export.pkl')\n",
    "data_clas.save('data_clas_export.pkl')\n",
    "data_lm = load_data('./', 'data_lm_export.pkl')\n",
    "data_clas = load_data('./', 'data_clas_export.pkl', bs=64)"
   ]
  },
  {
   "cell_type": "markdown",
   "metadata": {},
   "source": [
    "## 3. Create and Train the Language Model"
   ]
  },
  {
   "cell_type": "code",
   "execution_count": 15,
   "metadata": {},
   "outputs": [
    {
     "name": "stdout",
     "output_type": "stream",
     "text": [
      "Downloading https://s3.amazonaws.com/fast-ai-modelzoo/wt103-fwd.tgz\n"
     ]
    },
    {
     "data": {
      "text/html": [],
      "text/plain": [
       "<IPython.core.display.HTML object>"
      ]
     },
     "metadata": {},
     "output_type": "display_data"
    },
    {
     "data": {
      "text/html": [
       "\n",
       "    <div>\n",
       "        <style>\n",
       "            /* Turns off some styling */\n",
       "            progress {\n",
       "                /* gets rid of default border in Firefox and Opera. */\n",
       "                border: none;\n",
       "                /* Needs to be in here for Safari polyfill so background images work as expected. */\n",
       "                background-size: auto;\n",
       "            }\n",
       "            .progress-bar-interrupted, .progress-bar-interrupted::-webkit-progress-bar {\n",
       "                background: #F44336;\n",
       "            }\n",
       "        </style>\n",
       "      <progress value='2' class='' max='3' style='width:300px; height:20px; vertical-align: middle;'></progress>\n",
       "      66.67% [2/3 02:25<01:12]\n",
       "    </div>\n",
       "    \n",
       "<table border=\"1\" class=\"dataframe\">\n",
       "  <thead>\n",
       "    <tr style=\"text-align: left;\">\n",
       "      <th>epoch</th>\n",
       "      <th>train_loss</th>\n",
       "      <th>valid_loss</th>\n",
       "      <th>accuracy</th>\n",
       "      <th>time</th>\n",
       "    </tr>\n",
       "  </thead>\n",
       "  <tbody>\n",
       "    <tr>\n",
       "      <td>0</td>\n",
       "      <td>6.503242</td>\n",
       "      <td>#na#</td>\n",
       "      <td>01:12</td>\n",
       "    </tr>\n",
       "    <tr>\n",
       "      <td>1</td>\n",
       "      <td>5.768960</td>\n",
       "      <td>#na#</td>\n",
       "      <td>01:12</td>\n",
       "    </tr>\n",
       "  </tbody>\n",
       "</table><p>\n",
       "\n",
       "    <div>\n",
       "        <style>\n",
       "            /* Turns off some styling */\n",
       "            progress {\n",
       "                /* gets rid of default border in Firefox and Opera. */\n",
       "                border: none;\n",
       "                /* Needs to be in here for Safari polyfill so background images work as expected. */\n",
       "                background-size: auto;\n",
       "            }\n",
       "            .progress-bar-interrupted, .progress-bar-interrupted::-webkit-progress-bar {\n",
       "                background: #F44336;\n",
       "            }\n",
       "        </style>\n",
       "      <progress value='19' class='' max='40' style='width:300px; height:20px; vertical-align: middle;'></progress>\n",
       "      47.50% [19/40 00:41<00:45 8.9469]\n",
       "    </div>\n",
       "    "
      ],
      "text/plain": [
       "<IPython.core.display.HTML object>"
      ]
     },
     "metadata": {},
     "output_type": "display_data"
    },
    {
     "name": "stdout",
     "output_type": "stream",
     "text": [
      "LR Finder is complete, type {learner_name}.recorder.plot() to see the graph.\n",
      "Min numerical gradient: 4.79E-02\n",
      "Min loss divided by 10: 7.59E-02\n"
     ]
    },
    {
     "data": {
      "image/png": "[encoded data removed]",
      "text/plain": [
       "<Figure size 432x288 with 1 Axes>"
      ]
     },
     "metadata": {
      "needs_background": "light"
     },
     "output_type": "display_data"
    }
   ],
   "source": [
    "learn = language_model_learner(data_lm, AWD_LSTM, drop_mult=0.3)\n",
    "learn.lr_find()\n",
    "learn.recorder.plot(suggestion=True)\n",
    "min_grad_lr = learn.recorder.min_grad_lr"
   ]
  },
  {
   "cell_type": "code",
   "execution_count": 16,
   "metadata": {},
   "outputs": [
    {
     "data": {
      "text/html": [
       "<table border=\"1\" class=\"dataframe\">\n",
       "  <thead>\n",
       "    <tr style=\"text-align: left;\">\n",
       "      <th>epoch</th>\n",
       "      <th>train_loss</th>\n",
       "      <th>valid_loss</th>\n",
       "      <th>accuracy</th>\n",
       "      <th>time</th>\n",
       "    </tr>\n",
       "  </thead>\n",
       "  <tbody>\n",
       "    <tr>\n",
       "      <td>0</td>\n",
       "      <td>4.801317</td>\n",
       "      <td>4.081260</td>\n",
       "      <td>0.313038</td>\n",
       "      <td>01:29</td>\n",
       "    </tr>\n",
       "    <tr>\n",
       "      <td>1</td>\n",
       "      <td>4.106103</td>\n",
       "      <td>3.965871</td>\n",
       "      <td>0.323766</td>\n",
       "      <td>01:30</td>\n",
       "    </tr>\n",
       "  </tbody>\n",
       "</table>"
      ],
      "text/plain": [
       "<IPython.core.display.HTML object>"
      ]
     },
     "metadata": {},
     "output_type": "display_data"
    }
   ],
   "source": [
    "learn.fit_one_cycle(2, min_grad_lr)"
   ]
  },
  {
   "cell_type": "code",
   "execution_count": 17,
   "metadata": {},
   "outputs": [
    {
     "data": {
      "text/plain": [
       "'How do i save standard tab from OSX does not exist'"
      ]
     },
     "execution_count": 17,
     "metadata": {},
     "output_type": "execute_result"
    }
   ],
   "source": [
    "learn.predict(\"How do\", n_words=10)"
   ]
  },
  {
   "cell_type": "code",
   "execution_count": 18,
   "metadata": {},
   "outputs": [],
   "source": [
    "learn.save_encoder('ft_enc')"
   ]
  },
  {
   "cell_type": "markdown",
   "metadata": {},
   "source": [
    "## 4. Using the Language Model to Train the Classifier"
   ]
  },
  {
   "cell_type": "code",
   "execution_count": 19,
   "metadata": {},
   "outputs": [
    {
     "data": {
      "text/plain": [
       "RNNLearner(data=TextClasDataBunch;\n",
       "\n",
       "Train: LabelList (14000 items)\n",
       "x: TextList\n",
       "xxbos xxmaj creating xxmaj secure xxmaj xxunk xxmaj using xxmaj drupal xxmaj xxunk xxmaj groups , xxunk xxmaj social or xxmaj xxunk xxmaj share,xxbos xxmaj finder item in some point,xxbos xxmaj get parent web not top level,xxbos xxmaj extracting generic xxmaj linq queries,xxbos xxmaj wordpress xxmaj data xxmaj storage xxmaj efficiency\n",
       "y: CategoryList\n",
       "drupal,osx,sharepoint,linq,wordpress\n",
       "Path: .;\n",
       "\n",
       "Valid: LabelList (6000 items)\n",
       "x: TextList\n",
       "xxbos draw xxunk in image using matlab,xxbos xxmaj creating add - in for xxmaj excel using c # .,xxbos xxmaj drupal - xxmaj including more than one xxunk on a page ?,xxbos xxmaj non - xxunk use cases for functional programming ?,xxbos xxmaj need help understanding several xxup matlab statement\n",
       "y: CategoryList\n",
       "matlab,excel,drupal,scala,matlab\n",
       "Path: .;\n",
       "\n",
       "Test: None, model=SequentialRNN(\n",
       "  (0): MultiBatchEncoder(\n",
       "    (module): AWD_LSTM(\n",
       "      (encoder): Embedding(4672, 400, padding_idx=1)\n",
       "      (encoder_dp): EmbeddingDropout(\n",
       "        (emb): Embedding(4672, 400, padding_idx=1)\n",
       "      )\n",
       "      (rnns): ModuleList(\n",
       "        (0): WeightDropout(\n",
       "          (module): LSTM(400, 1152, batch_first=True)\n",
       "        )\n",
       "        (1): WeightDropout(\n",
       "          (module): LSTM(1152, 1152, batch_first=True)\n",
       "        )\n",
       "        (2): WeightDropout(\n",
       "          (module): LSTM(1152, 400, batch_first=True)\n",
       "        )\n",
       "      )\n",
       "      (input_dp): RNNDropout()\n",
       "      (hidden_dps): ModuleList(\n",
       "        (0): RNNDropout()\n",
       "        (1): RNNDropout()\n",
       "        (2): RNNDropout()\n",
       "      )\n",
       "    )\n",
       "  )\n",
       "  (1): PoolingLinearClassifier(\n",
       "    (layers): Sequential(\n",
       "      (0): BatchNorm1d(1200, eps=1e-05, momentum=0.1, affine=True, track_running_stats=True)\n",
       "      (1): Dropout(p=0.2, inplace=False)\n",
       "      (2): Linear(in_features=1200, out_features=50, bias=True)\n",
       "      (3): ReLU(inplace=True)\n",
       "      (4): BatchNorm1d(50, eps=1e-05, momentum=0.1, affine=True, track_running_stats=True)\n",
       "      (5): Dropout(p=0.1, inplace=False)\n",
       "      (6): Linear(in_features=50, out_features=20, bias=True)\n",
       "    )\n",
       "  )\n",
       "), opt_func=functools.partial(<class 'torch.optim.adam.Adam'>, betas=(0.9, 0.99)), loss_func=FlattenedLoss of CrossEntropyLoss(), metrics=[<function accuracy at 0x7fef880317a0>], true_wd=True, bn_wd=True, wd=0.01, train_bn=True, path=PosixPath('.'), model_dir='models', callback_fns=[functools.partial(<class 'fastai.basic_train.Recorder'>, add_time=True, silent=False)], callbacks=[RNNTrainer\n",
       "learn: ...\n",
       "alpha: 2.0\n",
       "beta: 1.0], layer_groups=[Sequential(\n",
       "  (0): Embedding(4672, 400, padding_idx=1)\n",
       "  (1): EmbeddingDropout(\n",
       "    (emb): Embedding(4672, 400, padding_idx=1)\n",
       "  )\n",
       "), Sequential(\n",
       "  (0): WeightDropout(\n",
       "    (module): LSTM(400, 1152, batch_first=True)\n",
       "  )\n",
       "  (1): RNNDropout()\n",
       "), Sequential(\n",
       "  (0): WeightDropout(\n",
       "    (module): LSTM(1152, 1152, batch_first=True)\n",
       "  )\n",
       "  (1): RNNDropout()\n",
       "), Sequential(\n",
       "  (0): WeightDropout(\n",
       "    (module): LSTM(1152, 400, batch_first=True)\n",
       "  )\n",
       "  (1): RNNDropout()\n",
       "), Sequential(\n",
       "  (0): PoolingLinearClassifier(\n",
       "    (layers): Sequential(\n",
       "      (0): BatchNorm1d(1200, eps=1e-05, momentum=0.1, affine=True, track_running_stats=True)\n",
       "      (1): Dropout(p=0.2, inplace=False)\n",
       "      (2): Linear(in_features=1200, out_features=50, bias=True)\n",
       "      (3): ReLU(inplace=True)\n",
       "      (4): BatchNorm1d(50, eps=1e-05, momentum=0.1, affine=True, track_running_stats=True)\n",
       "      (5): Dropout(p=0.1, inplace=False)\n",
       "      (6): Linear(in_features=50, out_features=20, bias=True)\n",
       "    )\n",
       "  )\n",
       ")], add_time=True, silent=False)"
      ]
     },
     "execution_count": 19,
     "metadata": {},
     "output_type": "execute_result"
    }
   ],
   "source": [
    "learn = text_classifier_learner(data_clas, AWD_LSTM, drop_mult=0.5)\n",
    "learn.load_encoder('ft_enc')"
   ]
  },
  {
   "cell_type": "code",
   "execution_count": 20,
   "metadata": {},
   "outputs": [
    {
     "data": {
      "text/html": [
       "\n",
       "    <div>\n",
       "        <style>\n",
       "            /* Turns off some styling */\n",
       "            progress {\n",
       "                /* gets rid of default border in Firefox and Opera. */\n",
       "                border: none;\n",
       "                /* Needs to be in here for Safari polyfill so background images work as expected. */\n",
       "                background-size: auto;\n",
       "            }\n",
       "            .progress-bar-interrupted, .progress-bar-interrupted::-webkit-progress-bar {\n",
       "                background: #F44336;\n",
       "            }\n",
       "        </style>\n",
       "      <progress value='0' class='' max='1' style='width:300px; height:20px; vertical-align: middle;'></progress>\n",
       "      0.00% [0/1 00:00<00:00]\n",
       "    </div>\n",
       "    \n",
       "<table border=\"1\" class=\"dataframe\">\n",
       "  <thead>\n",
       "    <tr style=\"text-align: left;\">\n",
       "      <th>epoch</th>\n",
       "      <th>train_loss</th>\n",
       "      <th>valid_loss</th>\n",
       "      <th>accuracy</th>\n",
       "      <th>time</th>\n",
       "    </tr>\n",
       "  </thead>\n",
       "  <tbody>\n",
       "  </tbody>\n",
       "</table><p>\n",
       "\n",
       "    <div>\n",
       "        <style>\n",
       "            /* Turns off some styling */\n",
       "            progress {\n",
       "                /* gets rid of default border in Firefox and Opera. */\n",
       "                border: none;\n",
       "                /* Needs to be in here for Safari polyfill so background images work as expected. */\n",
       "                background-size: auto;\n",
       "            }\n",
       "            .progress-bar-interrupted, .progress-bar-interrupted::-webkit-progress-bar {\n",
       "                background: #F44336;\n",
       "            }\n",
       "        </style>\n",
       "      <progress value='95' class='' max='218' style='width:300px; height:20px; vertical-align: middle;'></progress>\n",
       "      43.58% [95/218 00:22<00:28 9.1597]\n",
       "    </div>\n",
       "    "
      ],
      "text/plain": [
       "<IPython.core.display.HTML object>"
      ]
     },
     "metadata": {},
     "output_type": "display_data"
    },
    {
     "name": "stdout",
     "output_type": "stream",
     "text": [
      "LR Finder is complete, type {learner_name}.recorder.plot() to see the graph.\n",
      "Min numerical gradient: 3.98E-02\n",
      "Min loss divided by 10: 1.74E-02\n"
     ]
    },
    {
     "data": {
      "image/png": "[encoded data removed]",
      "text/plain": [
       "<Figure size 432x288 with 1 Axes>"
      ]
     },
     "metadata": {
      "needs_background": "light"
     },
     "output_type": "display_data"
    }
   ],
   "source": [
    "learn.lr_find()\n",
    "learn.recorder.plot(suggestion=True)\n",
    "min_grad_lr = learn.recorder.min_grad_lr"
   ]
  },
  {
   "cell_type": "code",
   "execution_count": 21,
   "metadata": {},
   "outputs": [
    {
     "data": {
      "text/html": [
       "<table border=\"1\" class=\"dataframe\">\n",
       "  <thead>\n",
       "    <tr style=\"text-align: left;\">\n",
       "      <th>epoch</th>\n",
       "      <th>train_loss</th>\n",
       "      <th>valid_loss</th>\n",
       "      <th>accuracy</th>\n",
       "      <th>time</th>\n",
       "    </tr>\n",
       "  </thead>\n",
       "  <tbody>\n",
       "    <tr>\n",
       "      <td>0</td>\n",
       "      <td>2.008895</td>\n",
       "      <td>1.579069</td>\n",
       "      <td>0.535500</td>\n",
       "      <td>01:00</td>\n",
       "    </tr>\n",
       "    <tr>\n",
       "      <td>1</td>\n",
       "      <td>1.805333</td>\n",
       "      <td>1.314909</td>\n",
       "      <td>0.637000</td>\n",
       "      <td>01:08</td>\n",
       "    </tr>\n",
       "  </tbody>\n",
       "</table>"
      ],
      "text/plain": [
       "<IPython.core.display.HTML object>"
      ]
     },
     "metadata": {},
     "output_type": "display_data"
    }
   ],
   "source": [
    "learn.fit_one_cycle(2, min_grad_lr)"
   ]
  },
  {
   "cell_type": "code",
   "execution_count": 22,
   "metadata": {},
   "outputs": [
    {
     "data": {
      "image/png": "[encoded data removed]",
      "text/plain": [
       "<Figure size 432x288 with 1 Axes>"
      ]
     },
     "metadata": {
      "needs_background": "light"
     },
     "output_type": "display_data"
    }
   ],
   "source": [
    "learn.recorder.plot_losses()"
   ]
  },
  {
   "cell_type": "code",
   "execution_count": 23,
   "metadata": {},
   "outputs": [
    {
     "data": {
      "text/html": [
       "<table border=\"1\" class=\"dataframe\">\n",
       "  <thead>\n",
       "    <tr style=\"text-align: left;\">\n",
       "      <th>epoch</th>\n",
       "      <th>train_loss</th>\n",
       "      <th>valid_loss</th>\n",
       "      <th>accuracy</th>\n",
       "      <th>time</th>\n",
       "    </tr>\n",
       "  </thead>\n",
       "  <tbody>\n",
       "    <tr>\n",
       "      <td>0</td>\n",
       "      <td>1.503235</td>\n",
       "      <td>0.945357</td>\n",
       "      <td>0.751000</td>\n",
       "      <td>01:18</td>\n",
       "    </tr>\n",
       "    <tr>\n",
       "      <td>1</td>\n",
       "      <td>1.010557</td>\n",
       "      <td>0.662682</td>\n",
       "      <td>0.814167</td>\n",
       "      <td>01:19</td>\n",
       "    </tr>\n",
       "    <tr>\n",
       "      <td>2</td>\n",
       "      <td>0.853775</td>\n",
       "      <td>0.611479</td>\n",
       "      <td>0.825333</td>\n",
       "      <td>01:14</td>\n",
       "    </tr>\n",
       "    <tr>\n",
       "      <td>3</td>\n",
       "      <td>0.768901</td>\n",
       "      <td>0.596357</td>\n",
       "      <td>0.828667</td>\n",
       "      <td>01:17</td>\n",
       "    </tr>\n",
       "  </tbody>\n",
       "</table>"
      ],
      "text/plain": [
       "<IPython.core.display.HTML object>"
      ]
     },
     "metadata": {},
     "output_type": "display_data"
    }
   ],
   "source": [
    "learn.freeze_to(-2)\n",
    "learn.fit_one_cycle(4, slice(5e-3, 2e-3), moms=(0.8,0.7))"
   ]
  },
  {
   "cell_type": "code",
   "execution_count": 31,
   "metadata": {},
   "outputs": [
    {
     "data": {
      "text/html": [
       "<table border=\"1\" class=\"dataframe\">\n",
       "  <thead>\n",
       "    <tr style=\"text-align: left;\">\n",
       "      <th>epoch</th>\n",
       "      <th>train_loss</th>\n",
       "      <th>valid_loss</th>\n",
       "      <th>accuracy</th>\n",
       "      <th>time</th>\n",
       "    </tr>\n",
       "  </thead>\n",
       "  <tbody>\n",
       "    <tr>\n",
       "      <td>0</td>\n",
       "      <td>0.688380</td>\n",
       "      <td>0.564339</td>\n",
       "      <td>0.834167</td>\n",
       "      <td>03:21</td>\n",
       "    </tr>\n",
       "    <tr>\n",
       "      <td>1</td>\n",
       "      <td>0.622728</td>\n",
       "      <td>0.525590</td>\n",
       "      <td>0.844833</td>\n",
       "      <td>03:43</td>\n",
       "    </tr>\n",
       "    <tr>\n",
       "      <td>2</td>\n",
       "      <td>0.518603</td>\n",
       "      <td>0.508786</td>\n",
       "      <td>0.850500</td>\n",
       "      <td>03:24</td>\n",
       "    </tr>\n",
       "    <tr>\n",
       "      <td>3</td>\n",
       "      <td>0.490452</td>\n",
       "      <td>0.507836</td>\n",
       "      <td>0.853333</td>\n",
       "      <td>03:53</td>\n",
       "    </tr>\n",
       "  </tbody>\n",
       "</table>"
      ],
      "text/plain": [
       "<IPython.core.display.HTML object>"
      ]
     },
     "metadata": {},
     "output_type": "display_data"
    }
   ],
   "source": [
    "learn.unfreeze()\n",
    "learn.fit_one_cycle(4, slice(2e-3/100, 2e-3), moms=(0.8,0.7))"
   ]
  },
  {
   "cell_type": "code",
   "execution_count": 32,
   "metadata": {},
   "outputs": [
    {
     "data": {
      "image/png": "[encoded data removed]",
      "text/plain": [
       "<Figure size 432x288 with 1 Axes>"
      ]
     },
     "metadata": {
      "needs_background": "light"
     },
     "output_type": "display_data"
    }
   ],
   "source": [
    "learn.recorder.plot_losses()"
   ]
  },
  {
   "cell_type": "code",
   "execution_count": 34,
   "metadata": {},
   "outputs": [
    {
     "data": {
      "text/html": [],
      "text/plain": [
       "<IPython.core.display.HTML object>"
      ]
     },
     "metadata": {},
     "output_type": "display_data"
    },
    {
     "data": {
      "image/png": "[encoded data removed]",
      "text/plain": [
       "<Figure size 432x288 with 1 Axes>"
      ]
     },
     "metadata": {
      "needs_background": "light"
     },
     "output_type": "display_data"
    }
   ],
   "source": [
    "preds,y,losses = learn.get_preds(with_loss=True)\n",
    "interp = ClassificationInterpretation(learn, preds, y, losses)\n",
    "interp.plot_confusion_matrix()"
   ]
  },
  {
   "cell_type": "code",
   "execution_count": 35,
   "metadata": {},
   "outputs": [
    {
     "data": {
      "text/plain": [
       "[('osx', 'cocoa', 33),\n",
       " ('cocoa', 'osx', 24),\n",
       " ('cocoa', 'qt', 22),\n",
       " ('scala', 'haskell', 19),\n",
       " ('qt', 'cocoa', 16),\n",
       " ('osx', 'bash', 14),\n",
       " ('visual-studio', 'svn', 13),\n",
       " ('hibernate', 'spring', 12),\n",
       " ('spring', 'cocoa', 12),\n",
       " ('visual-studio', 'cocoa', 11),\n",
       " ('bash', 'osx', 10),\n",
       " ('matlab', 'bash', 10),\n",
       " ('osx', 'qt', 10),\n",
       " ('ajax', 'apache', 9),\n",
       " ('ajax', 'qt', 9),\n",
       " ('haskell', 'qt', 9),\n",
       " ('scala', 'cocoa', 8),\n",
       " ('svn', 'visual-studio', 8),\n",
       " ('qt', 'bash', 7),\n",
       " ('qt', 'haskell', 7),\n",
       " ('qt', 'visual-studio', 7),\n",
       " ('spring', 'hibernate', 7),\n",
       " ('visual-studio', 'osx', 7),\n",
       " ('visual-studio', 'qt', 7),\n",
       " ('apache', 'ajax', 6),\n",
       " ('apache', 'bash', 6),\n",
       " ('cocoa', 'apache', 6),\n",
       " ('cocoa', 'sharepoint', 6),\n",
       " ('drupal', 'wordpress', 6),\n",
       " ('haskell', 'cocoa', 6),\n",
       " ('hibernate', 'oracle', 6),\n",
       " ('osx', 'svn', 6),\n",
       " ('osx', 'visual-studio', 6),\n",
       " ('scala', 'qt', 6),\n",
       " ('spring', 'qt', 6),\n",
       " ('wordpress', 'apache', 6),\n",
       " ('ajax', 'cocoa', 5),\n",
       " ('ajax', 'sharepoint', 5),\n",
       " ('ajax', 'visual-studio', 5),\n",
       " ('apache', 'svn', 5),\n",
       " ('bash', 'cocoa', 5),\n",
       " ('bash', 'svn', 5),\n",
       " ('cocoa', 'bash', 5),\n",
       " ('cocoa', 'haskell', 5),\n",
       " ('cocoa', 'oracle', 5),\n",
       " ('haskell', 'scala', 5),\n",
       " ('linq', 'haskell', 5),\n",
       " ('linq', 'oracle', 5),\n",
       " ('linq', 'visual-studio', 5),\n",
       " ('oracle', 'hibernate', 5),\n",
       " ('osx', 'apache', 5),\n",
       " ('scala', 'spring', 5),\n",
       " ('sharepoint', 'drupal', 5),\n",
       " ('spring', 'apache', 5),\n",
       " ('svn', 'bash', 5),\n",
       " ('visual-studio', 'spring', 5),\n",
       " ('ajax', 'spring', 4),\n",
       " ('apache', 'cocoa', 4),\n",
       " ('apache', 'drupal', 4),\n",
       " ('apache', 'sharepoint', 4),\n",
       " ('bash', 'haskell', 4),\n",
       " ('cocoa', 'visual-studio', 4),\n",
       " ('drupal', 'cocoa', 4),\n",
       " ('excel', 'oracle', 4),\n",
       " ('hibernate', 'linq', 4),\n",
       " ('hibernate', 'matlab', 4),\n",
       " ('linq', 'excel', 4),\n",
       " ('linq', 'scala', 4),\n",
       " ('matlab', 'cocoa', 4),\n",
       " ('osx', 'oracle', 4),\n",
       " ('qt', 'osx', 4),\n",
       " ('spring', 'bash', 4),\n",
       " ('wordpress', 'ajax', 4),\n",
       " ('ajax', 'osx', 3),\n",
       " ('apache', 'matlab', 3),\n",
       " ('apache', 'wordpress', 3),\n",
       " ('bash', 'ajax', 3),\n",
       " ('bash', 'matlab', 3),\n",
       " ('bash', 'qt', 3),\n",
       " ('cocoa', 'excel', 3),\n",
       " ('cocoa', 'spring', 3),\n",
       " ('drupal', 'bash', 3),\n",
       " ('drupal', 'qt', 3),\n",
       " ('drupal', 'sharepoint', 3),\n",
       " ('drupal', 'visual-studio', 3),\n",
       " ('excel', 'bash', 3),\n",
       " ('excel', 'matlab', 3),\n",
       " ('haskell', 'hibernate', 3),\n",
       " ('haskell', 'oracle', 3),\n",
       " ('haskell', 'visual-studio', 3),\n",
       " ('hibernate', 'bash', 3),\n",
       " ('linq', 'ajax', 3),\n",
       " ('linq', 'bash', 3),\n",
       " ('linq', 'cocoa', 3),\n",
       " ('linq', 'hibernate', 3),\n",
       " ('magento', 'drupal', 3),\n",
       " ('magento', 'wordpress', 3),\n",
       " ('matlab', 'haskell', 3),\n",
       " ('oracle', 'apache', 3),\n",
       " ('oracle', 'bash', 3),\n",
       " ('oracle', 'excel', 3),\n",
       " ('oracle', 'linq', 3),\n",
       " ('oracle', 'svn', 3),\n",
       " ('osx', 'sharepoint', 3),\n",
       " ('qt', 'sharepoint', 3),\n",
       " ('scala', 'hibernate', 3),\n",
       " ('scala', 'sharepoint', 3),\n",
       " ('sharepoint', 'bash', 3),\n",
       " ('sharepoint', 'excel', 3),\n",
       " ('sharepoint', 'qt', 3),\n",
       " ('sharepoint', 'spring', 3),\n",
       " ('sharepoint', 'visual-studio', 3),\n",
       " ('spring', 'ajax', 3),\n",
       " ('spring', 'haskell', 3),\n",
       " ('spring', 'sharepoint', 3),\n",
       " ('spring', 'visual-studio', 3),\n",
       " ('svn', 'apache', 3),\n",
       " ('visual-studio', 'bash', 3),\n",
       " ('visual-studio', 'sharepoint', 3),\n",
       " ('wordpress', 'magento', 3),\n",
       " ('wordpress', 'svn', 3),\n",
       " ('ajax', 'bash', 2),\n",
       " ('ajax', 'linq', 2),\n",
       " ('ajax', 'magento', 2),\n",
       " ('apache', 'haskell', 2),\n",
       " ('bash', 'drupal', 2),\n",
       " ('bash', 'oracle', 2),\n",
       " ('bash', 'spring', 2),\n",
       " ('cocoa', 'ajax', 2),\n",
       " ('cocoa', 'magento', 2),\n",
       " ('cocoa', 'scala', 2),\n",
       " ('cocoa', 'wordpress', 2),\n",
       " ('drupal', 'apache', 2),\n",
       " ('drupal', 'linq', 2),\n",
       " ('excel', 'apache', 2),\n",
       " ('excel', 'haskell', 2),\n",
       " ('excel', 'qt', 2),\n",
       " ('excel', 'sharepoint', 2),\n",
       " ('excel', 'visual-studio', 2),\n",
       " ('haskell', 'apache', 2),\n",
       " ('haskell', 'bash', 2),\n",
       " ('haskell', 'sharepoint', 2),\n",
       " ('hibernate', 'cocoa', 2),\n",
       " ('linq', 'sharepoint', 2),\n",
       " ('magento', 'apache', 2),\n",
       " ('magento', 'excel', 2),\n",
       " ('magento', 'sharepoint', 2),\n",
       " ('magento', 'svn', 2),\n",
       " ('matlab', 'hibernate', 2),\n",
       " ('matlab', 'oracle', 2),\n",
       " ('matlab', 'qt', 2),\n",
       " ('oracle', 'ajax', 2),\n",
       " ('oracle', 'haskell', 2),\n",
       " ('oracle', 'scala', 2),\n",
       " ('oracle', 'visual-studio', 2),\n",
       " ('osx', 'ajax', 2),\n",
       " ('osx', 'matlab', 2),\n",
       " ('qt', 'drupal', 2),\n",
       " ('qt', 'magento', 2),\n",
       " ('qt', 'scala', 2),\n",
       " ('qt', 'spring', 2),\n",
       " ('scala', 'bash', 2),\n",
       " ('sharepoint', 'apache', 2),\n",
       " ('sharepoint', 'cocoa', 2),\n",
       " ('sharepoint', 'magento', 2),\n",
       " ('sharepoint', 'matlab', 2),\n",
       " ('svn', 'cocoa', 2),\n",
       " ('svn', 'magento', 2),\n",
       " ('svn', 'osx', 2),\n",
       " ('svn', 'qt', 2),\n",
       " ('visual-studio', 'wordpress', 2),\n",
       " ('wordpress', 'cocoa', 2),\n",
       " ('wordpress', 'haskell', 2),\n",
       " ('wordpress', 'linq', 2),\n",
       " ('ajax', 'excel', 1),\n",
       " ('ajax', 'haskell', 1),\n",
       " ('ajax', 'matlab', 1),\n",
       " ('ajax', 'oracle', 1),\n",
       " ('ajax', 'scala', 1),\n",
       " ('ajax', 'svn', 1),\n",
       " ('ajax', 'wordpress', 1),\n",
       " ('apache', 'excel', 1),\n",
       " ('apache', 'hibernate', 1),\n",
       " ('apache', 'osx', 1),\n",
       " ('apache', 'qt', 1),\n",
       " ('apache', 'spring', 1),\n",
       " ('bash', 'excel', 1),\n",
       " ('bash', 'scala', 1),\n",
       " ('bash', 'wordpress', 1),\n",
       " ('cocoa', 'linq', 1),\n",
       " ('cocoa', 'matlab', 1),\n",
       " ('cocoa', 'svn', 1),\n",
       " ('drupal', 'ajax', 1),\n",
       " ('drupal', 'haskell', 1),\n",
       " ('drupal', 'magento', 1),\n",
       " ('drupal', 'oracle', 1),\n",
       " ('drupal', 'osx', 1),\n",
       " ('excel', 'cocoa', 1),\n",
       " ('excel', 'magento', 1),\n",
       " ('excel', 'scala', 1),\n",
       " ('haskell', 'ajax', 1),\n",
       " ('haskell', 'excel', 1),\n",
       " ('haskell', 'linq', 1),\n",
       " ('haskell', 'magento', 1),\n",
       " ('haskell', 'osx', 1),\n",
       " ('haskell', 'svn', 1),\n",
       " ('hibernate', 'apache', 1),\n",
       " ('hibernate', 'drupal', 1),\n",
       " ('hibernate', 'haskell', 1),\n",
       " ('hibernate', 'qt', 1),\n",
       " ('hibernate', 'sharepoint', 1),\n",
       " ('hibernate', 'svn', 1),\n",
       " ('hibernate', 'visual-studio', 1),\n",
       " ('hibernate', 'wordpress', 1),\n",
       " ('linq', 'apache', 1),\n",
       " ('linq', 'matlab', 1),\n",
       " ('linq', 'qt', 1),\n",
       " ('linq', 'spring', 1),\n",
       " ('magento', 'ajax', 1),\n",
       " ('magento', 'cocoa', 1),\n",
       " ('magento', 'spring', 1),\n",
       " ('matlab', 'osx', 1),\n",
       " ('matlab', 'sharepoint', 1),\n",
       " ('matlab', 'spring', 1),\n",
       " ('oracle', 'cocoa', 1),\n",
       " ('oracle', 'drupal', 1),\n",
       " ('oracle', 'matlab', 1),\n",
       " ('oracle', 'qt', 1),\n",
       " ('oracle', 'sharepoint', 1),\n",
       " ('oracle', 'wordpress', 1),\n",
       " ('osx', 'excel', 1),\n",
       " ('osx', 'haskell', 1),\n",
       " ('osx', 'magento', 1),\n",
       " ('qt', 'ajax', 1),\n",
       " ('qt', 'apache', 1),\n",
       " ('qt', 'hibernate', 1),\n",
       " ('qt', 'matlab', 1),\n",
       " ('qt', 'oracle', 1),\n",
       " ('qt', 'svn', 1),\n",
       " ('qt', 'wordpress', 1),\n",
       " ('scala', 'ajax', 1),\n",
       " ('scala', 'apache', 1),\n",
       " ('scala', 'drupal', 1),\n",
       " ('scala', 'magento', 1),\n",
       " ('scala', 'matlab', 1),\n",
       " ('scala', 'oracle', 1),\n",
       " ('scala', 'svn', 1),\n",
       " ('scala', 'visual-studio', 1),\n",
       " ('sharepoint', 'ajax', 1),\n",
       " ('sharepoint', 'haskell', 1),\n",
       " ('sharepoint', 'scala', 1),\n",
       " ('sharepoint', 'wordpress', 1),\n",
       " ('spring', 'drupal', 1),\n",
       " ('spring', 'linq', 1),\n",
       " ('spring', 'matlab', 1),\n",
       " ('spring', 'oracle', 1),\n",
       " ('svn', 'ajax', 1),\n",
       " ('svn', 'hibernate', 1),\n",
       " ('svn', 'scala', 1),\n",
       " ('svn', 'sharepoint', 1),\n",
       " ('svn', 'spring', 1),\n",
       " ('visual-studio', 'ajax', 1),\n",
       " ('visual-studio', 'apache', 1),\n",
       " ('visual-studio', 'excel', 1),\n",
       " ('visual-studio', 'hibernate', 1),\n",
       " ('visual-studio', 'matlab', 1),\n",
       " ('visual-studio', 'oracle', 1),\n",
       " ('wordpress', 'bash', 1),\n",
       " ('wordpress', 'drupal', 1),\n",
       " ('wordpress', 'excel', 1),\n",
       " ('wordpress', 'oracle', 1),\n",
       " ('wordpress', 'sharepoint', 1),\n",
       " ('wordpress', 'visual-studio', 1)]"
      ]
     },
     "execution_count": 35,
     "metadata": {},
     "output_type": "execute_result"
    }
   ],
   "source": [
    "\n",
    "interp.most_confused()"
   ]
  },
  {
   "cell_type": "code",
   "execution_count": 36,
   "metadata": {},
   "outputs": [
    {
     "data": {
      "text/plain": [
       "(Category tensor(1),\n",
       " tensor(1),\n",
       " tensor([0.1427, 0.1906, 0.0338, 0.0305, 0.0545, 0.0049, 0.0045, 0.0227, 0.0165,\n",
       "         0.1215, 0.0028, 0.0058, 0.0533, 0.0402, 0.0028, 0.0622, 0.0818, 0.0130,\n",
       "         0.0261, 0.0899]))"
      ]
     },
     "execution_count": 36,
     "metadata": {},
     "output_type": "execute_result"
    }
   ],
   "source": [
    "learn.predict(\"homebrew not working\")"
   ]
  },
  {
   "cell_type": "code",
   "execution_count": 37,
   "metadata": {},
   "outputs": [],
   "source": [
    "learn.export()"
   ]
  },
  {
   "cell_type": "code",
   "execution_count": null,
   "metadata": {},
   "outputs": [],
   "source": []
  }
 ],
 "metadata": {
  "kernelspec": {
   "display_name": "Python 3",
   "language": "python",
   "name": "python3"
  },
  "language_info": {
   "codemirror_mode": {
    "name": "ipython",
    "version": 3
   },
   "file_extension": ".py",
   "mimetype": "text/x-python",
   "name": "python",
   "nbconvert_exporter": "python",
   "pygments_lexer": "ipython3",
   "version": "3.7.6"
  }
 },
 "nbformat": 4,
 "nbformat_minor": 4
}
